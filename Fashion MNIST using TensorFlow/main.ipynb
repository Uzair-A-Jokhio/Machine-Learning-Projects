{
 "cells": [
  {
   "cell_type": "markdown",
   "metadata": {},
   "source": [
    "# Clothing Classification Using TensorFlow\n",
    "\n",
    "Fashion-MNIST is a dataset of Zalando's article images—consisting of a training set of 60,000 examples and a test set of 10,000 examples. Each example is a 28x28 grayscale image, associated with a label from 10 classes\n",
    "\n",
    "<div style=\"text-align: center;\">\n",
    "\n",
    "![clothes](img1/cloths.png)\n",
    "</div>"
   ]
  },
  {
   "cell_type": "markdown",
   "metadata": {},
   "source": [
    "### Packages\n",
    "Following packages are used."
   ]
  },
  {
   "cell_type": "code",
   "execution_count": 267,
   "metadata": {},
   "outputs": [],
   "source": [
    "import tensorflow as tf\n",
    "import numpy as np\n",
    "import matplotlib.pyplot as plt"
   ]
  },
  {
   "cell_type": "markdown",
   "metadata": {},
   "source": [
    "### Loading Data\n",
    "\n",
    "The Fashion MNIST dataset is a collection of grayscale 28x28 pixel clothing images.\n",
    "\n",
    "Each image is associated with a label as shown in this table\n",
    "\n",
    "<div style=\"text-align: center;\">\n",
    "\n",
    "![Table](img1/table.png)\n",
    "</div>"
   ]
  },
  {
   "cell_type": "code",
   "execution_count": 268,
   "metadata": {},
   "outputs": [],
   "source": [
    "# load the Fashion MNIST dataset\n",
    "fmnist = tf.keras.datasets.fashion_mnist"
   ]
  },
  {
   "cell_type": "code",
   "execution_count": 269,
   "metadata": {},
   "outputs": [],
   "source": [
    "# load the training set \n",
    "(x_train, y_train), (x_test, y_test) = fmnist.load_data() "
   ]
  },
  {
   "cell_type": "code",
   "execution_count": 270,
   "metadata": {},
   "outputs": [
    {
     "name": "stdout",
     "output_type": "stream",
     "text": [
      "LABEL: 3\n",
      "\n",
      "IMAGE PIXEL ARRAY:\n",
      " [[  0   0   0   0   0   0   0   0  33  96 175 156  64  14  54 137 204 194 102   0   0   0   0   0   0   0   0   0]\n",
      " [  0   0   0   0   0   0  73 186 177 183 175 188 232 255 223 219 194 179 186 213 146   0   0   0   0   0   0   0]\n",
      " [  0   0   0   0   0  35 163 140 150 152 150 146 175 175 173 171 156 152 148 129 156 140   0   0   0   0   0   0]\n",
      " [  0   0   0   0   0 150 142 140 152 160 156 146 142 127 135 133 140 140 137 133 125 169  75   0   0   0   0   0]\n",
      " [  0   0   0   0   0  54 167 146 129 142 137 137 131 148 148 133 131 131 131 125 140 140   0   0   0   0   0   0]\n",
      " [  0   0   0   0   0   0 110 188 133 146 152 133 125 127 119 129 133 119 140 131 150  14   0   0   0   0   0   0]\n",
      " [  0   0   0   0   0   0   0 221 158 137 135 123 110 110 114 108 112 117 127 142  77   0   0   0   0   0   0   0]\n",
      " [  0   0   0   0   0   4   0  25 158 137 125 119 119 110 117 117 110 119 127 144   0   0   0   0   0   0   0   0]\n",
      " [  0   0   0   0   0   0   0   0 123 156 129 112 110 102 112 100 121 117 129 114   0   0   0   0   0   0   0   0]\n",
      " [  0   0   0   0   0   0   0   0 125 169 127 119 106 108 104  94 121 114 129  91   0   0   0   0   0   0   0   0]\n",
      " [  0   0   0   0   0   0   2   0  98 171 129 112 104 114 106 102 112 104 133  64   0   4   0   0   0   0   0   0]\n",
      " [  0   0   0   0   0   0   2   0  66 173 135 129  98 100 119 102 108  98 135  60   0   4   0   0   0   0   0   0]\n",
      " [  0   0   0   0   0   0   2   0  56 171 135 127 100 108 117  85 106 110 135  66   0   4   0   0   0   0   0   0]\n",
      " [  0   0   0   0   0   0   0   0  52 150 129 110 100  91 102  94  83 104 123  66   0   4   0   0   0   0   0   0]\n",
      " [  0   0   0   0   0   0   2   0  66 167 140 148 148 127 137 152 146 146 148  96   0   0   0   0   0   0   0   0]\n",
      " [  0   0   0   0   0   0   0   0  45 123  94 104  96 119 121 106  98 112  87 114   0   0   0   0   0   0   0   0]\n",
      " [  0   0   0   0   0   0   0   0 106  89  58  50  37  50  66  56  50  75  75 137  22   0   2   0   0   0   0   0]\n",
      " [  0   0   0   0   0   2   0  29 148 114 106 125  89 100 133 117 131 131 131 125 112   0   0   0   0   0   0   0]\n",
      " [  0   0   0   0   0   0   0 100 106 114  91 137  62 102 131  89 135 112 131 108 135  37   0   0   0   0   0   0]\n",
      " [  0   0   0   0   0   0   0 146 100 108  98 144  62 106 131  87 133 104 160 117 121  68   0   0   0   0   0   0]\n",
      " [  0   0   0   0   0   0  33 121 108  96 100 140  71 106 127  85 140 104 150 140 114  89   0   0   0   0   0   0]\n",
      " [  0   0   0   0   0   0  62 119 112 102 110 137  75 106 144  81 144 108 117 154 117 104  18   0   0   0   0   0]\n",
      " [  0   0   0   0   0   0  66 121 102 112 117 131  73 104 156  77 137 135  83 179 129 121  35   0   0   0   0   0]\n",
      " [  0   0   0   0   0   0  85 127  81 125 133 119  79 100 169  83 129 175  60 163 135 146  39   0   0   0   0   0]\n",
      " [  0   0   0   0   0   0 106 129  62 140 144 108  85  83 158  85 129 175  48 146 133 135  64   0   0   0   0   0]\n",
      " [  0   0   0   0   0   0 117 119  79 140 152 102  89 110 137  96 150 196  83 144 135 133  77   0   0   0   0   0]\n",
      " [  0   0   0   0   0   0 154 121  87 140 154 112  94  52 142 100  83 152  85 160 133 100  12   0   0   0   0   0]\n",
      " [  0   0   0   0   0   0   4   0   2   0  35   4  33   0   0   0   0   0   0   0   0   0   0   0   0   0   0   0]]\n"
     ]
    },
    {
     "data": {
      "text/plain": [
       "<matplotlib.image.AxesImage at 0x25c316e8df0>"
      ]
     },
     "execution_count": 270,
     "metadata": {},
     "output_type": "execute_result"
    },
    {
     "data": {
      "image/png": "[encoded data removed]",
      "text/plain": [
       "<Figure size 640x480 with 1 Axes>"
      ]
     },
     "metadata": {},
     "output_type": "display_data"
    }
   ],
   "source": [
    "# can put between 0 to 69999\n",
    "index = 3\n",
    "\n",
    "# Set number of characters per row when printing\n",
    "np.set_printoptions(linewidth=320)\n",
    "\n",
    "# Print the label and image\n",
    "print(f'LABEL: {y_train[index]}')\n",
    "print(f'\\nIMAGE PIXEL ARRAY:\\n {x_train[index]}')\n",
    "\n",
    "# Visualize the image\n",
    "plt.imshow(x_train[index])\n"
   ]
  },
  {
   "cell_type": "markdown",
   "metadata": {},
   "source": [
    "### Normalizaing Data\n",
    "\n",
    " The images are normalized to have pixel values in the range [0, 1], and the labels are one-hot encoded."
   ]
  },
  {
   "cell_type": "code",
   "execution_count": 271,
   "metadata": {},
   "outputs": [],
   "source": [
    "# normalizating the data\n",
    "x_train = x_train / 255.0\n",
    "x_test = x_test / 255.0"
   ]
  },
  {
   "cell_type": "markdown",
   "metadata": {},
   "source": [
    "### Creating a Callback class"
   ]
  },
  {
   "cell_type": "code",
   "execution_count": 272,
   "metadata": {},
   "outputs": [],
   "source": [
    "class myCallback(tf.keras.callbacks.Callback):\n",
    "  def on_epoch_end(self, epoch, logs={}):\n",
    "    '''\n",
    "    Halts the training when the accuracy cross 95\n",
    "    \n",
    "    Args:\n",
    "      epoch (integer) - index of epoch (required but unused in the function definition below)\n",
    "      logs (dict) - metric results from the training epoch\n",
    "    '''\n",
    "    \n",
    "    if(logs.get('accuracy') >= 0.95): # Experiment with changing this value\n",
    "      print(\"\\nReached 95% accuracy so cancelling training!\")\n",
    "      self.model.stop_training = True\n",
    "\n",
    "callbacks = myCallback()"
   ]
  },
  {
   "cell_type": "markdown",
   "metadata": {},
   "source": [
    "### Building and Compiling  the Model\n",
    "\n",
    "This neural network consists of three layers:\n",
    "\n",
    "    Input Layer (512 Neurons): Accepts input data features.\n",
    "    Hidden Layer (128 Neurons, ReLU): Extracts complex patterns using the ReLU activation function.\n",
    "    Output Layer (10 Neurons, Softmax): Generates class probabilities for classification.\n",
    "\n",
    "The architecture is optimized for classification tasks, effectively learning and predicting patterns in the input data"
   ]
  },
  {
   "cell_type": "code",
   "execution_count": 273,
   "metadata": {},
   "outputs": [],
   "source": [
    "# Build the classification model\n",
    "model = tf.keras.models.Sequential(\n",
    "    [\n",
    "        tf.keras.layers.Flatten(), \n",
    "        tf.keras.layers.Dense(512, activation=tf.nn.relu), \n",
    "        tf.keras.layers.Dense(128, activation=tf.nn.relu), \n",
    "        tf.keras.layers.Dense(10, activation=tf.nn.softmax)\n",
    "    ],name=\"Car_Model\"     \n",
    ")"
   ]
  },
  {
   "cell_type": "code",
   "execution_count": 274,
   "metadata": {},
   "outputs": [],
   "source": [
    "model.compile(\n",
    "    optimizer=\"adam\",\n",
    "    loss = 'sparse_categorical_crossentropy',\n",
    "    metrics=['accuracy']\n",
    ")"
   ]
  },
  {
   "cell_type": "code",
   "execution_count": 275,
   "metadata": {},
   "outputs": [
    {
     "name": "stdout",
     "output_type": "stream",
     "text": [
      "Epoch 1/5\n",
      "1875/1875 [==============================] - 14s 7ms/step - loss: 0.4736 - accuracy: 0.8296\n",
      "Epoch 2/5\n",
      "1875/1875 [==============================] - 13s 7ms/step - loss: 0.3585 - accuracy: 0.8675\n",
      "Epoch 3/5\n",
      "1875/1875 [==============================] - 13s 7ms/step - loss: 0.3218 - accuracy: 0.8810\n",
      "Epoch 4/5\n",
      "1875/1875 [==============================] - 14s 7ms/step - loss: 0.2985 - accuracy: 0.8888\n",
      "Epoch 5/5\n",
      "1875/1875 [==============================] - 13s 7ms/step - loss: 0.2801 - accuracy: 0.8952\n"
     ]
    },
    {
     "data": {
      "text/plain": [
       "<keras.callbacks.History at 0x25c318534c0>"
      ]
     },
     "execution_count": 275,
     "metadata": {},
     "output_type": "execute_result"
    }
   ],
   "source": [
    "model.fit(x_train, y_train, epochs=5,callbacks=[callbacks])"
   ]
  },
  {
   "cell_type": "code",
   "execution_count": 276,
   "metadata": {},
   "outputs": [
    {
     "name": "stdout",
     "output_type": "stream",
     "text": [
      "313/313 [==============================] - 1s 2ms/step - loss: 0.3553 - accuracy: 0.8685\n",
      "Test Accuracy: 86.85%\n",
      "loss: 35.53\n"
     ]
    }
   ],
   "source": [
    "# Evaluate the model on unseen data\n",
    "loss, accuracy = model.evaluate(x_test, y_test)\n",
    "\n",
    "print(f\"Test Accuracy: {accuracy * 100:.2f}%\")\n",
    "print(f\"loss: {loss * 100:.2f}\")"
   ]
  },
  {
   "cell_type": "markdown",
   "metadata": {},
   "source": [
    "## Prediction on Test set"
   ]
  },
  {
   "cell_type": "code",
   "execution_count": 284,
   "metadata": {},
   "outputs": [
    {
     "name": "stdout",
     "output_type": "stream",
     "text": [
      "313/313 [==============================] - 1s 2ms/step\n"
     ]
    },
    {
     "data": {
      "image/png": "[encoded data removed]",
      "text/plain": [
       "<Figure size 1200x600 with 9 Axes>"
      ]
     },
     "metadata": {},
     "output_type": "display_data"
    }
   ],
   "source": [
    "# Get predictions on the test set\n",
    "predictions = model.predict(x_test)\n",
    "\n",
    "# Display images along with their predictions and actual values\n",
    "num_rows = 3\n",
    "num_cols = 3\n",
    "num_images = num_rows * num_cols\n",
    "\n",
    "plt.figure(figsize=(2 * 2 * num_cols, 2 * num_rows))\n",
    "for i in range(num_images):\n",
    "    random_index = np.random.randint(len(x_test))\n",
    "    plt.subplot(num_rows, 2 * num_cols, 2 * i + 1)\n",
    "    plt.imshow(x_test[random_index], cmap='gray')\n",
    "    plt.axis('off')\n",
    "    predicted_label = np.argmax(predictions[random_index])\n",
    "    true_label = y_test[random_index]\n",
    "    plt.title(f'Pred: {predicted_label}\\nTrue: {true_label}')\n",
    "\n",
    "plt.tight_layout()\n",
    "plt.show()\n"
   ]
  },
  {
   "cell_type": "code",
   "execution_count": null,
   "metadata": {},
   "outputs": [],
   "source": []
  }
 ],
 "metadata": {
  "kernelspec": {
   "display_name": "Python 3",
   "language": "python",
   "name": "python3"
  },
  "language_info": {
   "codemirror_mode": {
    "name": "ipython",
    "version": 3
   },
   "file_extension": ".py",
   "mimetype": "text/x-python",
   "name": "python",
   "nbconvert_exporter": "python",
   "pygments_lexer": "ipython3",
   "version": "3.10.6"
  },
  "orig_nbformat": 4
 },
 "nbformat": 4,
 "nbformat_minor": 2
}
